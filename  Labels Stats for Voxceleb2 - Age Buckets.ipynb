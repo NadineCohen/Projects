{
 "cells": [
  {
   "cell_type": "code",
   "execution_count": 24,
   "id": "5b284ffc",
   "metadata": {},
   "outputs": [],
   "source": [
    "import pandas as pd\n",
    "import numpy as np\n",
    "import matplotlib.pyplot as plt\n",
    "import datetime as dt"
   ]
  },
  {
   "cell_type": "code",
   "execution_count": 45,
   "id": "9738959b",
   "metadata": {},
   "outputs": [],
   "source": [
    "#import CSV file\n",
    "vox2U_meta = pd.read_csv('vox2Updated.csv')"
   ]
  },
  {
   "cell_type": "code",
   "execution_count": 26,
   "id": "1c519b82",
   "metadata": {},
   "outputs": [
    {
     "data": {
      "text/plain": [
       "Name           object\n",
       "VoxCeleb2ID    object\n",
       "VGGFace2       object\n",
       "Gender         object\n",
       "Set            object\n",
       "Ethnicity      object\n",
       "Birthdate      object\n",
       "ErrorLinks     object\n",
       "dtype: object"
      ]
     },
     "execution_count": 26,
     "metadata": {},
     "output_type": "execute_result"
    }
   ],
   "source": [
    "vox2U_meta.dtypes"
   ]
  },
  {
   "cell_type": "code",
   "execution_count": 46,
   "id": "184c1991",
   "metadata": {
    "scrolled": true
   },
   "outputs": [
    {
     "data": {
      "text/plain": [
       "Name                   string\n",
       "VoxCeleb2ID            string\n",
       "VGGFace2               string\n",
       "Gender                 string\n",
       "Set                    string\n",
       "Ethnicity              string\n",
       "Birthdate      datetime64[ns]\n",
       "ErrorLinks             object\n",
       "dtype: object"
      ]
     },
     "execution_count": 46,
     "metadata": {},
     "output_type": "execute_result"
    }
   ],
   "source": [
    "vox2U_meta[['Name', 'VoxCeleb2ID','VGGFace2','Gender','Set','Ethnicity']] = vox2U_meta[['Name', 'VoxCeleb2ID','VGGFace2','Gender','Set','Ethnicity']].astype('string')\n",
    "vox2U_meta['Birthdate'] = pd.to_datetime(vox2U_meta['Birthdate'],format = '%Y-%m-%d') \n",
    "vox2U_meta.dtypes"
   ]
  },
  {
   "cell_type": "code",
   "execution_count": 47,
   "id": "b8a4b5bb",
   "metadata": {},
   "outputs": [],
   "source": [
    "# Function that returns the age of the person today\n",
    "def age(birthdate):\n",
    "    today = dt.date.today()\n",
    "    age = today.year - birthdate.year - ((today.month, today.day) < (birthdate.month, birthdate.day))\n",
    "    return age\n"
   ]
  },
  {
   "cell_type": "code",
   "execution_count": 48,
   "id": "181c3648",
   "metadata": {},
   "outputs": [],
   "source": [
    "# Function that can classify a value into a date bucket\n",
    "def my_func(x):\n",
    "    if x >= 65 and x < 110:\n",
    "        return '65 and older'\n",
    "    elif x >= 55 and x < 65:\n",
    "        return '55-64'\n",
    "    elif x >= 45 and x < 55:\n",
    "        return '45-54'\n",
    "    elif x >= 35 and x < 45:\n",
    "        return '35-44'\n",
    "    elif x >= 25 and x < 35:\n",
    "        return '25-34'\n",
    "    elif x >= 18 and x < 25:\n",
    "        return '18-24'\n",
    "    elif x < 18:\n",
    "        return 'Below 18'\n",
    "    else:\n",
    "        return 'Age bucket unknown'"
   ]
  },
  {
   "cell_type": "code",
   "execution_count": 49,
   "id": "5e8ab38b",
   "metadata": {},
   "outputs": [],
   "source": [
    "vox2U_meta['Age'] = vox2U_meta['Birthdate'].apply(age)"
   ]
  },
  {
   "cell_type": "code",
   "execution_count": 50,
   "id": "5c0b18fd",
   "metadata": {},
   "outputs": [],
   "source": [
    "vox2U_meta['Age Bucket'] = vox2U_meta['Age'].apply(my_func)"
   ]
  },
  {
   "cell_type": "code",
   "execution_count": 43,
   "id": "8b15b11c",
   "metadata": {},
   "outputs": [
    {
     "data": {
      "text/html": [
       "<div>\n",
       "<style scoped>\n",
       "    .dataframe tbody tr th:only-of-type {\n",
       "        vertical-align: middle;\n",
       "    }\n",
       "\n",
       "    .dataframe tbody tr th {\n",
       "        vertical-align: top;\n",
       "    }\n",
       "\n",
       "    .dataframe thead th {\n",
       "        text-align: right;\n",
       "    }\n",
       "</style>\n",
       "<table border=\"1\" class=\"dataframe\">\n",
       "  <thead>\n",
       "    <tr style=\"text-align: right;\">\n",
       "      <th></th>\n",
       "      <th>Name</th>\n",
       "      <th>VoxCeleb2ID</th>\n",
       "      <th>VGGFace2</th>\n",
       "      <th>Gender</th>\n",
       "      <th>Set</th>\n",
       "      <th>Ethnicity</th>\n",
       "      <th>Birthdate</th>\n",
       "      <th>ErrorLinks</th>\n",
       "      <th>Age</th>\n",
       "      <th>Age Bucket</th>\n",
       "    </tr>\n",
       "  </thead>\n",
       "  <tbody>\n",
       "    <tr>\n",
       "      <th>0</th>\n",
       "      <td>Aaron_Ashmore</td>\n",
       "      <td>id00012</td>\n",
       "      <td>n000012</td>\n",
       "      <td>m</td>\n",
       "      <td>dev</td>\n",
       "      <td>Caucasian Latin</td>\n",
       "      <td>1979-10-07</td>\n",
       "      <td>NaN</td>\n",
       "      <td>43</td>\n",
       "      <td>35-44</td>\n",
       "    </tr>\n",
       "    <tr>\n",
       "      <th>1</th>\n",
       "      <td>Aaron_Motsoaledi</td>\n",
       "      <td>id00015</td>\n",
       "      <td>n000015</td>\n",
       "      <td>m</td>\n",
       "      <td>dev</td>\n",
       "      <td>African American</td>\n",
       "      <td>1958-08-07</td>\n",
       "      <td>NaN</td>\n",
       "      <td>64</td>\n",
       "      <td>55-64</td>\n",
       "    </tr>\n",
       "    <tr>\n",
       "      <th>2</th>\n",
       "      <td>Aaron_Ramsey</td>\n",
       "      <td>id00016</td>\n",
       "      <td>n000016</td>\n",
       "      <td>m</td>\n",
       "      <td>dev</td>\n",
       "      <td>Caucasian Latin</td>\n",
       "      <td>1990-12-26</td>\n",
       "      <td>NaN</td>\n",
       "      <td>32</td>\n",
       "      <td>25-34</td>\n",
       "    </tr>\n",
       "    <tr>\n",
       "      <th>3</th>\n",
       "      <td>Aaron_Rodgers</td>\n",
       "      <td>id00017</td>\n",
       "      <td>n000017</td>\n",
       "      <td>m</td>\n",
       "      <td>test</td>\n",
       "      <td>Caucasian Latin</td>\n",
       "      <td>1983-12-02</td>\n",
       "      <td>NaN</td>\n",
       "      <td>39</td>\n",
       "      <td>35-44</td>\n",
       "    </tr>\n",
       "    <tr>\n",
       "      <th>4</th>\n",
       "      <td>Aaron_Schock</td>\n",
       "      <td>id00018</td>\n",
       "      <td>n000018</td>\n",
       "      <td>m</td>\n",
       "      <td>dev</td>\n",
       "      <td>Caucasian Latin</td>\n",
       "      <td>1981-05-28</td>\n",
       "      <td>NaN</td>\n",
       "      <td>41</td>\n",
       "      <td>35-44</td>\n",
       "    </tr>\n",
       "    <tr>\n",
       "      <th>...</th>\n",
       "      <td>...</td>\n",
       "      <td>...</td>\n",
       "      <td>...</td>\n",
       "      <td>...</td>\n",
       "      <td>...</td>\n",
       "      <td>...</td>\n",
       "      <td>...</td>\n",
       "      <td>...</td>\n",
       "      <td>...</td>\n",
       "      <td>...</td>\n",
       "    </tr>\n",
       "    <tr>\n",
       "      <th>6109</th>\n",
       "      <td>Łukasz_Fabiański</td>\n",
       "      <td>id09263</td>\n",
       "      <td>n009263</td>\n",
       "      <td>m</td>\n",
       "      <td>dev</td>\n",
       "      <td>Caucasian Latin</td>\n",
       "      <td>1985-04-18</td>\n",
       "      <td>NaN</td>\n",
       "      <td>37</td>\n",
       "      <td>35-44</td>\n",
       "    </tr>\n",
       "    <tr>\n",
       "      <th>6110</th>\n",
       "      <td>Šarūnas_Jasikevičius</td>\n",
       "      <td>id09268</td>\n",
       "      <td>n009268</td>\n",
       "      <td>m</td>\n",
       "      <td>dev</td>\n",
       "      <td>Caucasian Latin</td>\n",
       "      <td>1976-03-05</td>\n",
       "      <td>NaN</td>\n",
       "      <td>46</td>\n",
       "      <td>45-54</td>\n",
       "    </tr>\n",
       "    <tr>\n",
       "      <th>6111</th>\n",
       "      <td>Štefan_Füle</td>\n",
       "      <td>id09269</td>\n",
       "      <td>n009269</td>\n",
       "      <td>m</td>\n",
       "      <td>dev</td>\n",
       "      <td>Caucasian Latin</td>\n",
       "      <td>1962-05-24</td>\n",
       "      <td>NaN</td>\n",
       "      <td>60</td>\n",
       "      <td>55-64</td>\n",
       "    </tr>\n",
       "    <tr>\n",
       "      <th>6112</th>\n",
       "      <td>Željko_Obradović</td>\n",
       "      <td>id09271</td>\n",
       "      <td>n009271</td>\n",
       "      <td>m</td>\n",
       "      <td>dev</td>\n",
       "      <td>Caucasian Latin</td>\n",
       "      <td>1960-03-09</td>\n",
       "      <td>NaN</td>\n",
       "      <td>62</td>\n",
       "      <td>55-64</td>\n",
       "    </tr>\n",
       "    <tr>\n",
       "      <th>6113</th>\n",
       "      <td>Žydrūnas_Savickas</td>\n",
       "      <td>id09272</td>\n",
       "      <td>n009272</td>\n",
       "      <td>m</td>\n",
       "      <td>dev</td>\n",
       "      <td>Caucasian Latin</td>\n",
       "      <td>1975-07-15</td>\n",
       "      <td>NaN</td>\n",
       "      <td>47</td>\n",
       "      <td>45-54</td>\n",
       "    </tr>\n",
       "  </tbody>\n",
       "</table>\n",
       "<p>6114 rows × 10 columns</p>\n",
       "</div>"
      ],
      "text/plain": [
       "                      Name VoxCeleb2ID VGGFace2 Gender   Set  \\\n",
       "0            Aaron_Ashmore     id00012  n000012      m   dev   \n",
       "1         Aaron_Motsoaledi     id00015  n000015      m   dev   \n",
       "2             Aaron_Ramsey     id00016  n000016      m   dev   \n",
       "3            Aaron_Rodgers     id00017  n000017      m  test   \n",
       "4             Aaron_Schock     id00018  n000018      m   dev   \n",
       "...                    ...         ...      ...    ...   ...   \n",
       "6109      Łukasz_Fabiański     id09263  n009263      m   dev   \n",
       "6110  Šarūnas_Jasikevičius     id09268  n009268      m   dev   \n",
       "6111           Štefan_Füle     id09269  n009269      m   dev   \n",
       "6112      Željko_Obradović     id09271  n009271      m   dev   \n",
       "6113     Žydrūnas_Savickas     id09272  n009272      m   dev   \n",
       "\n",
       "             Ethnicity  Birthdate ErrorLinks  Age Age Bucket  \n",
       "0      Caucasian Latin 1979-10-07        NaN   43      35-44  \n",
       "1     African American 1958-08-07        NaN   64      55-64  \n",
       "2      Caucasian Latin 1990-12-26        NaN   32      25-34  \n",
       "3      Caucasian Latin 1983-12-02        NaN   39      35-44  \n",
       "4      Caucasian Latin 1981-05-28        NaN   41      35-44  \n",
       "...                ...        ...        ...  ...        ...  \n",
       "6109   Caucasian Latin 1985-04-18        NaN   37      35-44  \n",
       "6110   Caucasian Latin 1976-03-05        NaN   46      45-54  \n",
       "6111   Caucasian Latin 1962-05-24        NaN   60      55-64  \n",
       "6112   Caucasian Latin 1960-03-09        NaN   62      55-64  \n",
       "6113   Caucasian Latin 1975-07-15        NaN   47      45-54  \n",
       "\n",
       "[6114 rows x 10 columns]"
      ]
     },
     "execution_count": 43,
     "metadata": {},
     "output_type": "execute_result"
    }
   ],
   "source": [
    "vox2U_meta"
   ]
  },
  {
   "cell_type": "code",
   "execution_count": 51,
   "id": "56caa9c8",
   "metadata": {},
   "outputs": [
    {
     "data": {
      "text/plain": [
       "Age Bucket\n",
       "18-24                    4\n",
       "25-34                  544\n",
       "35-44                 1666\n",
       "45-54                 1261\n",
       "55-64                  985\n",
       "65 and older          1147\n",
       "Age bucket unknown     507\n",
       "Name: Name, dtype: int64"
      ]
     },
     "execution_count": 51,
     "metadata": {},
     "output_type": "execute_result"
    }
   ],
   "source": [
    "#group Age Bucket categories to count\n",
    "age_buckets = vox2U_meta.groupby(by='Age Bucket').count()['Name']\n",
    "age_buckets"
   ]
  },
  {
   "cell_type": "code",
   "execution_count": 58,
   "id": "e49eb30d",
   "metadata": {},
   "outputs": [
    {
     "data": {
      "text/html": [
       "<div>\n",
       "<style scoped>\n",
       "    .dataframe tbody tr th:only-of-type {\n",
       "        vertical-align: middle;\n",
       "    }\n",
       "\n",
       "    .dataframe tbody tr th {\n",
       "        vertical-align: top;\n",
       "    }\n",
       "\n",
       "    .dataframe thead th {\n",
       "        text-align: right;\n",
       "    }\n",
       "</style>\n",
       "<table border=\"1\" class=\"dataframe\">\n",
       "  <thead>\n",
       "    <tr style=\"text-align: right;\">\n",
       "      <th></th>\n",
       "      <th>Age Bucket</th>\n",
       "      <th>Count</th>\n",
       "      <th>Percentage</th>\n",
       "    </tr>\n",
       "  </thead>\n",
       "  <tbody>\n",
       "    <tr>\n",
       "      <th>0</th>\n",
       "      <td>18-24</td>\n",
       "      <td>4</td>\n",
       "      <td>0.07</td>\n",
       "    </tr>\n",
       "    <tr>\n",
       "      <th>1</th>\n",
       "      <td>25-34</td>\n",
       "      <td>544</td>\n",
       "      <td>8.90</td>\n",
       "    </tr>\n",
       "    <tr>\n",
       "      <th>2</th>\n",
       "      <td>35-44</td>\n",
       "      <td>1666</td>\n",
       "      <td>27.25</td>\n",
       "    </tr>\n",
       "    <tr>\n",
       "      <th>3</th>\n",
       "      <td>45-54</td>\n",
       "      <td>1261</td>\n",
       "      <td>20.62</td>\n",
       "    </tr>\n",
       "    <tr>\n",
       "      <th>4</th>\n",
       "      <td>55-64</td>\n",
       "      <td>985</td>\n",
       "      <td>16.11</td>\n",
       "    </tr>\n",
       "    <tr>\n",
       "      <th>5</th>\n",
       "      <td>65 and older</td>\n",
       "      <td>1147</td>\n",
       "      <td>18.76</td>\n",
       "    </tr>\n",
       "    <tr>\n",
       "      <th>6</th>\n",
       "      <td>Age bucket unknown</td>\n",
       "      <td>507</td>\n",
       "      <td>8.29</td>\n",
       "    </tr>\n",
       "  </tbody>\n",
       "</table>\n",
       "</div>"
      ],
      "text/plain": [
       "           Age Bucket  Count  Percentage\n",
       "0               18-24      4        0.07\n",
       "1               25-34    544        8.90\n",
       "2               35-44   1666       27.25\n",
       "3               45-54   1261       20.62\n",
       "4               55-64    985       16.11\n",
       "5        65 and older   1147       18.76\n",
       "6  Age bucket unknown    507        8.29"
      ]
     },
     "execution_count": 58,
     "metadata": {},
     "output_type": "execute_result"
    }
   ],
   "source": [
    "#un_age_bucket to find unique age bucket categories\n",
    "un_age_bucket = sorted(vox2U_meta['Age Bucket'].unique())\n",
    "\n",
    "#count_age_bucket to save the count as an array\n",
    "count_age_bucket= np.array(age_buckets)\n",
    "\n",
    "#perc_age_bucket to find the percentages of each category\n",
    "total_e = vox2U_meta['Age Bucket'].count()\n",
    "perc_age_bucket = []\n",
    "\n",
    "for i in un_age_bucket:\n",
    "    perc_age_bucket.append(round((age_buckets[i]/total_e*100),2))\n",
    "\n",
    "#create a data frame with the ethinicity, count and percentage\n",
    "data_age_bucket = {'Age Bucket': un_age_bucket, 'Count':count_age_bucket, 'Percentage':perc_age_bucket}\n",
    "\n",
    "df_age_bucket = pd.DataFrame(data_age_bucket)\n",
    "df_age_bucket\n"
   ]
  },
  {
   "cell_type": "code",
   "execution_count": 59,
   "id": "b52651c7",
   "metadata": {},
   "outputs": [
    {
     "data": {
      "text/plain": [
       "([<matplotlib.patches.Wedge at 0x259a14f68b0>,\n",
       "  <matplotlib.patches.Wedge at 0x259a1504040>,\n",
       "  <matplotlib.patches.Wedge at 0x259a1504760>,\n",
       "  <matplotlib.patches.Wedge at 0x259a1504e80>,\n",
       "  <matplotlib.patches.Wedge at 0x259a1511610>,\n",
       "  <matplotlib.patches.Wedge at 0x259a1511d30>,\n",
       "  <matplotlib.patches.Wedge at 0x259a151e490>],\n",
       " [Text(1.0999976765603428, 0.002260876345104254, '18-24'),\n",
       "  Text(1.056048247387567, 0.3078345321591592, '25-34'),\n",
       "  Text(0.16610193645370086, 1.0873868431732705, '35-44'),\n",
       "  Text(-1.0738746134348094, 0.238313479728359, '45-54'),\n",
       "  Text(-0.652584828886145, -0.8855128689678321, '55-64'),\n",
       "  Text(0.48873417494340676, -0.9854638026038235, '65 and older'),\n",
       "  Text(1.0628832596852584, -0.2833358012691645, 'Age bucket unknown')],\n",
       " [Text(0.5999987326692777, 0.0012332052791477748, '0.07'),\n",
       "  Text(0.5760263167568546, 0.16790974481408683, '8.90'),\n",
       "  Text(0.09060105624747318, 0.5931200962763293, '27.25'),\n",
       "  Text(-0.5857497891462595, 0.1299891707609231, '20.62'),\n",
       "  Text(-0.35595536121062454, -0.48300701943699925, '16.11'),\n",
       "  Text(0.2665822772418582, -0.5375257105111764, '18.76'),\n",
       "  Text(0.5797545052828682, -0.15454680069227156, '8.29')])"
      ]
     },
     "execution_count": 59,
     "metadata": {},
     "output_type": "execute_result"
    },
    {
     "data": {
      "image/png": "[encoded data removed]",
      "text/plain": [
       "<Figure size 640x480 with 1 Axes>"
      ]
     },
     "metadata": {},
     "output_type": "display_data"
    }
   ],
   "source": [
    "#Pie chart plot of the information\n",
    "plt.pie(df_age_bucket['Count'], labels = df_age_bucket['Age Bucket'],autopct= '%.2f')"
   ]
  },
  {
   "cell_type": "code",
   "execution_count": null,
   "id": "22e1ce6f",
   "metadata": {},
   "outputs": [],
   "source": []
  }
 ],
 "metadata": {
  "kernelspec": {
   "display_name": "Python 3 (ipykernel)",
   "language": "python",
   "name": "python3"
  },
  "language_info": {
   "codemirror_mode": {
    "name": "ipython",
    "version": 3
   },
   "file_extension": ".py",
   "mimetype": "text/x-python",
   "name": "python",
   "nbconvert_exporter": "python",
   "pygments_lexer": "ipython3",
   "version": "3.9.13"
  }
 },
 "nbformat": 4,
 "nbformat_minor": 5
}
