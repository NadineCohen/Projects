{
 "cells": [
  {
   "cell_type": "code",
   "execution_count": 125,
   "id": "404dd7c5",
   "metadata": {},
   "outputs": [],
   "source": [
    "import pandas as pd\n",
    "import numpy as np\n",
    "import matplotlib.pyplot as plt\n"
   ]
  },
  {
   "cell_type": "code",
   "execution_count": 126,
   "id": "36293dc8",
   "metadata": {},
   "outputs": [],
   "source": [
    "#import CSV file\n",
    "vox2_meta = pd.read_csv('vox2_meta_eth.csv')"
   ]
  },
  {
   "cell_type": "code",
   "execution_count": 127,
   "id": "78896be3",
   "metadata": {},
   "outputs": [
    {
     "data": {
      "text/html": [
       "<div>\n",
       "<style scoped>\n",
       "    .dataframe tbody tr th:only-of-type {\n",
       "        vertical-align: middle;\n",
       "    }\n",
       "\n",
       "    .dataframe tbody tr th {\n",
       "        vertical-align: top;\n",
       "    }\n",
       "\n",
       "    .dataframe thead th {\n",
       "        text-align: right;\n",
       "    }\n",
       "</style>\n",
       "<table border=\"1\" class=\"dataframe\">\n",
       "  <thead>\n",
       "    <tr style=\"text-align: right;\">\n",
       "      <th></th>\n",
       "      <th>Name</th>\n",
       "      <th>VoxCeleb2ID</th>\n",
       "      <th>VGGFace2</th>\n",
       "      <th>Gender</th>\n",
       "      <th>Set</th>\n",
       "      <th>Ethnicity</th>\n",
       "    </tr>\n",
       "  </thead>\n",
       "  <tbody>\n",
       "    <tr>\n",
       "      <th>0</th>\n",
       "      <td>Aaron_Ashmore</td>\n",
       "      <td>id00012</td>\n",
       "      <td>n000012</td>\n",
       "      <td>m</td>\n",
       "      <td>dev</td>\n",
       "      <td>Caucasian Latin</td>\n",
       "    </tr>\n",
       "    <tr>\n",
       "      <th>1</th>\n",
       "      <td>Aaron_Motsoaledi</td>\n",
       "      <td>id00015</td>\n",
       "      <td>n000015</td>\n",
       "      <td>m</td>\n",
       "      <td>dev</td>\n",
       "      <td>African American</td>\n",
       "    </tr>\n",
       "    <tr>\n",
       "      <th>2</th>\n",
       "      <td>Aaron_Ramsey</td>\n",
       "      <td>id00016</td>\n",
       "      <td>n000016</td>\n",
       "      <td>m</td>\n",
       "      <td>dev</td>\n",
       "      <td>Caucasian Latin</td>\n",
       "    </tr>\n",
       "    <tr>\n",
       "      <th>3</th>\n",
       "      <td>Aaron_Rodgers</td>\n",
       "      <td>id00017</td>\n",
       "      <td>n000017</td>\n",
       "      <td>m</td>\n",
       "      <td>test</td>\n",
       "      <td>Caucasian Latin</td>\n",
       "    </tr>\n",
       "    <tr>\n",
       "      <th>4</th>\n",
       "      <td>Aaron_Schock</td>\n",
       "      <td>id00018</td>\n",
       "      <td>n000018</td>\n",
       "      <td>m</td>\n",
       "      <td>dev</td>\n",
       "      <td>Caucasian Latin</td>\n",
       "    </tr>\n",
       "    <tr>\n",
       "      <th>...</th>\n",
       "      <td>...</td>\n",
       "      <td>...</td>\n",
       "      <td>...</td>\n",
       "      <td>...</td>\n",
       "      <td>...</td>\n",
       "      <td>...</td>\n",
       "    </tr>\n",
       "    <tr>\n",
       "      <th>6109</th>\n",
       "      <td>Łukasz_Fabiański</td>\n",
       "      <td>id09263</td>\n",
       "      <td>n009263</td>\n",
       "      <td>m</td>\n",
       "      <td>dev</td>\n",
       "      <td>Caucasian Latin</td>\n",
       "    </tr>\n",
       "    <tr>\n",
       "      <th>6110</th>\n",
       "      <td>Šarūnas_Jasikevičius</td>\n",
       "      <td>id09268</td>\n",
       "      <td>n009268</td>\n",
       "      <td>m</td>\n",
       "      <td>dev</td>\n",
       "      <td>Caucasian Latin</td>\n",
       "    </tr>\n",
       "    <tr>\n",
       "      <th>6111</th>\n",
       "      <td>Štefan_Füle</td>\n",
       "      <td>id09269</td>\n",
       "      <td>n009269</td>\n",
       "      <td>m</td>\n",
       "      <td>dev</td>\n",
       "      <td>Caucasian Latin</td>\n",
       "    </tr>\n",
       "    <tr>\n",
       "      <th>6112</th>\n",
       "      <td>Željko_Obradović</td>\n",
       "      <td>id09271</td>\n",
       "      <td>n009271</td>\n",
       "      <td>m</td>\n",
       "      <td>dev</td>\n",
       "      <td>Caucasian Latin</td>\n",
       "    </tr>\n",
       "    <tr>\n",
       "      <th>6113</th>\n",
       "      <td>Žydrūnas_Savickas</td>\n",
       "      <td>id09272</td>\n",
       "      <td>n009272</td>\n",
       "      <td>m</td>\n",
       "      <td>dev</td>\n",
       "      <td>Caucasian Latin</td>\n",
       "    </tr>\n",
       "  </tbody>\n",
       "</table>\n",
       "<p>6114 rows × 6 columns</p>\n",
       "</div>"
      ],
      "text/plain": [
       "                      Name VoxCeleb2ID VGGFace2 Gender   Set         Ethnicity\n",
       "0            Aaron_Ashmore     id00012  n000012      m   dev   Caucasian Latin\n",
       "1         Aaron_Motsoaledi     id00015  n000015      m   dev  African American\n",
       "2             Aaron_Ramsey     id00016  n000016      m   dev   Caucasian Latin\n",
       "3            Aaron_Rodgers     id00017  n000017      m  test   Caucasian Latin\n",
       "4             Aaron_Schock     id00018  n000018      m   dev   Caucasian Latin\n",
       "...                    ...         ...      ...    ...   ...               ...\n",
       "6109      Łukasz_Fabiański     id09263  n009263      m   dev   Caucasian Latin\n",
       "6110  Šarūnas_Jasikevičius     id09268  n009268      m   dev   Caucasian Latin\n",
       "6111           Štefan_Füle     id09269  n009269      m   dev   Caucasian Latin\n",
       "6112      Željko_Obradović     id09271  n009271      m   dev   Caucasian Latin\n",
       "6113     Žydrūnas_Savickas     id09272  n009272      m   dev   Caucasian Latin\n",
       "\n",
       "[6114 rows x 6 columns]"
      ]
     },
     "execution_count": 127,
     "metadata": {},
     "output_type": "execute_result"
    }
   ],
   "source": [
    "#see the data\n",
    "vox2_meta"
   ]
  },
  {
   "cell_type": "code",
   "execution_count": 128,
   "id": "840422c6",
   "metadata": {},
   "outputs": [
    {
     "data": {
      "text/plain": [
       "Name           object\n",
       "VoxCeleb2ID    object\n",
       "VGGFace2       object\n",
       "Gender         object\n",
       "Set            object\n",
       "Ethnicity      object\n",
       "dtype: object"
      ]
     },
     "execution_count": 128,
     "metadata": {},
     "output_type": "execute_result"
    }
   ],
   "source": [
    "#check data types\n",
    "vox2_meta.dtypes"
   ]
  },
  {
   "cell_type": "code",
   "execution_count": 129,
   "id": "13dc06bc",
   "metadata": {},
   "outputs": [
    {
     "data": {
      "text/plain": [
       "Name           string\n",
       "VoxCeleb2ID    string\n",
       "VGGFace2       string\n",
       "Gender         string\n",
       "Set            string\n",
       "Ethnicity      string\n",
       "dtype: object"
      ]
     },
     "execution_count": 129,
     "metadata": {},
     "output_type": "execute_result"
    }
   ],
   "source": [
    "#change data types to strings\n",
    "vox2_meta[['Name', 'VoxCeleb2ID','VGGFace2','Gender','Set','Ethnicity']] = vox2_meta[['Name', 'VoxCeleb2ID','VGGFace2','Gender','Set','Ethnicity']].astype('string')\n",
    "vox2_meta.dtypes"
   ]
  },
  {
   "cell_type": "code",
   "execution_count": 130,
   "id": "09143432",
   "metadata": {},
   "outputs": [
    {
     "data": {
      "text/html": [
       "<div>\n",
       "<style scoped>\n",
       "    .dataframe tbody tr th:only-of-type {\n",
       "        vertical-align: middle;\n",
       "    }\n",
       "\n",
       "    .dataframe tbody tr th {\n",
       "        vertical-align: top;\n",
       "    }\n",
       "\n",
       "    .dataframe thead th {\n",
       "        text-align: right;\n",
       "    }\n",
       "</style>\n",
       "<table border=\"1\" class=\"dataframe\">\n",
       "  <thead>\n",
       "    <tr style=\"text-align: right;\">\n",
       "      <th>Gender</th>\n",
       "      <th>f</th>\n",
       "      <th>m</th>\n",
       "    </tr>\n",
       "    <tr>\n",
       "      <th>Ethnicity</th>\n",
       "      <th></th>\n",
       "      <th></th>\n",
       "    </tr>\n",
       "  </thead>\n",
       "  <tbody>\n",
       "    <tr>\n",
       "      <th>African American</th>\n",
       "      <td>161</td>\n",
       "      <td>394</td>\n",
       "    </tr>\n",
       "    <tr>\n",
       "      <th>Asian Indian</th>\n",
       "      <td>241</td>\n",
       "      <td>208</td>\n",
       "    </tr>\n",
       "    <tr>\n",
       "      <th>Caucasian Latin</th>\n",
       "      <td>1857</td>\n",
       "      <td>3031</td>\n",
       "    </tr>\n",
       "    <tr>\n",
       "      <th>East Asian</th>\n",
       "      <td>92</td>\n",
       "      <td>130</td>\n",
       "    </tr>\n",
       "  </tbody>\n",
       "</table>\n",
       "</div>"
      ],
      "text/plain": [
       "Gender               f     m\n",
       "Ethnicity                   \n",
       "African American   161   394\n",
       "Asian Indian       241   208\n",
       "Caucasian Latin   1857  3031\n",
       "East Asian          92   130"
      ]
     },
     "execution_count": 130,
     "metadata": {},
     "output_type": "execute_result"
    }
   ],
   "source": [
    "#Pivote table to see ethnicity divided by gender\n",
    "vox2_meta.pivot_table(columns = 'Gender', index = 'Ethnicity', values = 'Name', aggfunc='count')"
   ]
  },
  {
   "cell_type": "code",
   "execution_count": 192,
   "id": "6f9d6a97",
   "metadata": {},
   "outputs": [
    {
     "data": {
      "text/plain": [
       "Ethnicity\n",
       "African American     555\n",
       "Asian Indian         449\n",
       "Caucasian Latin     4888\n",
       "East Asian           222\n",
       "Name: Name, dtype: int64"
      ]
     },
     "execution_count": 192,
     "metadata": {},
     "output_type": "execute_result"
    }
   ],
   "source": [
    "#group ethincity categories to count\n",
    "ethnicity = vox2_meta.groupby(by='Ethnicity').count()['Name']\n",
    "ethnicity"
   ]
  },
  {
   "cell_type": "code",
   "execution_count": 201,
   "id": "17ccf463",
   "metadata": {
    "scrolled": true
   },
   "outputs": [
    {
     "data": {
      "text/html": [
       "<div>\n",
       "<style scoped>\n",
       "    .dataframe tbody tr th:only-of-type {\n",
       "        vertical-align: middle;\n",
       "    }\n",
       "\n",
       "    .dataframe tbody tr th {\n",
       "        vertical-align: top;\n",
       "    }\n",
       "\n",
       "    .dataframe thead th {\n",
       "        text-align: right;\n",
       "    }\n",
       "</style>\n",
       "<table border=\"1\" class=\"dataframe\">\n",
       "  <thead>\n",
       "    <tr style=\"text-align: right;\">\n",
       "      <th></th>\n",
       "      <th>Ethnicity</th>\n",
       "      <th>Count</th>\n",
       "      <th>Percentage</th>\n",
       "    </tr>\n",
       "  </thead>\n",
       "  <tbody>\n",
       "    <tr>\n",
       "      <th>0</th>\n",
       "      <td>African American</td>\n",
       "      <td>555</td>\n",
       "      <td>9.08</td>\n",
       "    </tr>\n",
       "    <tr>\n",
       "      <th>1</th>\n",
       "      <td>Asian Indian</td>\n",
       "      <td>449</td>\n",
       "      <td>7.34</td>\n",
       "    </tr>\n",
       "    <tr>\n",
       "      <th>2</th>\n",
       "      <td>Caucasian Latin</td>\n",
       "      <td>4888</td>\n",
       "      <td>79.95</td>\n",
       "    </tr>\n",
       "    <tr>\n",
       "      <th>3</th>\n",
       "      <td>East Asian</td>\n",
       "      <td>222</td>\n",
       "      <td>3.63</td>\n",
       "    </tr>\n",
       "  </tbody>\n",
       "</table>\n",
       "</div>"
      ],
      "text/plain": [
       "          Ethnicity  Count  Percentage\n",
       "0  African American    555        9.08\n",
       "1      Asian Indian    449        7.34\n",
       "2   Caucasian Latin   4888       79.95\n",
       "3        East Asian    222        3.63"
      ]
     },
     "execution_count": 201,
     "metadata": {},
     "output_type": "execute_result"
    }
   ],
   "source": [
    "#un_eth to find unique ethinicty categories\n",
    "un_ethn = sorted(vox2_meta['Ethnicity'].unique())\n",
    "\n",
    "#count_ethn to save the count as an array\n",
    "count_ethn= np.array(ethnicity)\n",
    "\n",
    "#perc_ethn to find the percentages of each category\n",
    "total_e = vox2_meta['Ethnicity'].count()\n",
    "perc_ethn = []\n",
    "\n",
    "for i in un_ethn:\n",
    "   perc_ethn.append(round((ethnicity[i]/total_e*100),2))\n",
    "\n",
    "#create a data frame with the ethinicity, count and percentage\n",
    "data_ethn = {'Ethnicity': un_ethn, 'Count':count_ethn, 'Percentage':perc_ethn}\n",
    "\n",
    "df_ethn = pd.DataFrame(data_ethn)\n",
    "df_ethn\n"
   ]
  },
  {
   "cell_type": "code",
   "execution_count": 199,
   "id": "8c63ec20",
   "metadata": {},
   "outputs": [
    {
     "data": {
      "text/plain": [
       "([<matplotlib.patches.Wedge at 0x20785635cd0>,\n",
       "  <matplotlib.patches.Wedge at 0x20785643430>,\n",
       "  <matplotlib.patches.Wedge at 0x20785643b50>,\n",
       "  <matplotlib.patches.Wedge at 0x207856502b0>],\n",
       " [Text(1.0555724690529629, 0.3094620535339216, 'African American'),\n",
       "  Text(0.765532506496409, 0.7899113757234577, 'Asian Indian'),\n",
       "  Text(-1.0123859356363212, -0.4302031117109343, 'Caucasian Latin'),\n",
       "  Text(1.0928509860921993, -0.12520671786013574, 'East Asian')],\n",
       " [Text(0.5757668013016161, 0.1687974837457754, '9.08'),\n",
       "  Text(0.4175631853616776, 0.4308607503946133, '7.34'),\n",
       "  Text(-0.5522105103470842, -0.23465624275141866, '79.95'),\n",
       "  Text(0.5961005378684723, -0.06829457337825584, '3.63')])"
      ]
     },
     "execution_count": 199,
     "metadata": {},
     "output_type": "execute_result"
    },
    {
     "data": {
      "image/png": "[encoded data removed]",
      "text/plain": [
       "<Figure size 640x480 with 1 Axes>"
      ]
     },
     "metadata": {},
     "output_type": "display_data"
    }
   ],
   "source": [
    "#Pie chart plot of the information\n",
    "plt.pie(df_ethn['Count'],labels = df_ethn['Ethnicity'],autopct= '%.2f')"
   ]
  },
  {
   "cell_type": "code",
   "execution_count": 177,
   "id": "96633183",
   "metadata": {},
   "outputs": [],
   "source": [
    "#group gender categories to count\n",
    "gender = vox2_meta.groupby(by='Gender').count()['Name']"
   ]
  },
  {
   "cell_type": "code",
   "execution_count": 205,
   "id": "592db2dc",
   "metadata": {},
   "outputs": [
    {
     "data": {
      "text/html": [
       "<div>\n",
       "<style scoped>\n",
       "    .dataframe tbody tr th:only-of-type {\n",
       "        vertical-align: middle;\n",
       "    }\n",
       "\n",
       "    .dataframe tbody tr th {\n",
       "        vertical-align: top;\n",
       "    }\n",
       "\n",
       "    .dataframe thead th {\n",
       "        text-align: right;\n",
       "    }\n",
       "</style>\n",
       "<table border=\"1\" class=\"dataframe\">\n",
       "  <thead>\n",
       "    <tr style=\"text-align: right;\">\n",
       "      <th></th>\n",
       "      <th>Gender</th>\n",
       "      <th>Count</th>\n",
       "      <th>Percentage</th>\n",
       "    </tr>\n",
       "  </thead>\n",
       "  <tbody>\n",
       "    <tr>\n",
       "      <th>0</th>\n",
       "      <td>f</td>\n",
       "      <td>2351</td>\n",
       "      <td>38.45</td>\n",
       "    </tr>\n",
       "    <tr>\n",
       "      <th>1</th>\n",
       "      <td>m</td>\n",
       "      <td>3763</td>\n",
       "      <td>61.55</td>\n",
       "    </tr>\n",
       "  </tbody>\n",
       "</table>\n",
       "</div>"
      ],
      "text/plain": [
       "  Gender  Count  Percentage\n",
       "0      f   2351       38.45\n",
       "1      m   3763       61.55"
      ]
     },
     "execution_count": 205,
     "metadata": {},
     "output_type": "execute_result"
    }
   ],
   "source": [
    "#un_gend to find unique gender categories\n",
    "un_gend = sorted(vox2_meta['Gender'].unique())\n",
    "\n",
    "#count_gend to save the count as an array\n",
    "count_gend = np.array(gender)\n",
    "\n",
    "#perc_gend to find the percentages of each category\n",
    "total_g = vox2_meta['Gender'].count()\n",
    "perc_gend = []\n",
    "\n",
    "for i in un_gend:\n",
    "   perc_gend.append(round((gender[i]/total_g*100),2))\n",
    "\n",
    "#create a data frame with the gender, count and percentage\n",
    "data_gend = {'Gender': un_gend, 'Count':count_gend, 'Percentage':perc_gend}\n",
    "\n",
    "df_gend = pd.DataFrame(data_gend)\n",
    "df_gend\n"
   ]
  },
  {
   "cell_type": "code",
   "execution_count": 204,
   "id": "ee90434f",
   "metadata": {},
   "outputs": [
    {
     "data": {
      "text/plain": [
       "([<matplotlib.patches.Wedge at 0x207856ec580>,\n",
       "  <matplotlib.patches.Wedge at 0x207856ecca0>],\n",
       " [Text(0.3903498956162055, 1.0284099177820183, 'f'),\n",
       "  Text(-0.39034989561620514, -1.0284099177820185, 'm')],\n",
       " [Text(0.2129181248815666, 0.5609508642447372, '38.45'),\n",
       "  Text(-0.21291812488156645, -0.5609508642447373, '61.55')])"
      ]
     },
     "execution_count": 204,
     "metadata": {},
     "output_type": "execute_result"
    },
    {
     "data": {
      "image/png": "[encoded data removed]",
      "text/plain": [
       "<Figure size 640x480 with 1 Axes>"
      ]
     },
     "metadata": {},
     "output_type": "display_data"
    }
   ],
   "source": [
    "#Pie chart plot of the information\n",
    "plt.pie(df_gend['Count'],labels = df_gend['Gender'],autopct= '%.2f')"
   ]
  },
  {
   "cell_type": "code",
   "execution_count": null,
   "id": "accef1af",
   "metadata": {},
   "outputs": [],
   "source": []
  }
 ],
 "metadata": {
  "kernelspec": {
   "display_name": "Python 3 (ipykernel)",
   "language": "python",
   "name": "python3"
  },
  "language_info": {
   "codemirror_mode": {
    "name": "ipython",
    "version": 3
   },
   "file_extension": ".py",
   "mimetype": "text/x-python",
   "name": "python",
   "nbconvert_exporter": "python",
   "pygments_lexer": "ipython3",
   "version": "3.9.13"
  }
 },
 "nbformat": 4,
 "nbformat_minor": 5
}
